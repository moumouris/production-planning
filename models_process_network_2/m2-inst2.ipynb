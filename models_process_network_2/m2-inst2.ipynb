{
 "cells": [
  {
   "cell_type": "code",
   "execution_count": 2,
   "metadata": {},
   "outputs": [],
   "source": [
    "import gurobipy as gp\n",
    "from gurobipy import GRB\n",
    "import numpy as np"
   ]
  },
  {
   "cell_type": "code",
   "execution_count": 3,
   "metadata": {},
   "outputs": [],
   "source": [
    "Dt = 4 #hours\n",
    "n = 60 #days \n",
    "fp_delivery_interval = 7 #days\n",
    "rm_delivery_interval = 14 #days\n",
    "rm_num = 3\n",
    "intm_num = 13\n",
    "fp_num = 12"
   ]
  },
  {
   "cell_type": "code",
   "execution_count": 4,
   "metadata": {},
   "outputs": [],
   "source": [
    "tasks_string  = \"T111 T112 T121 T122 T123 T131 T132 T211 T212 T213 T214 T221 T222 T223 T224 T311 T312 T321 T322 T331 T332 T411 T412 T413 T414\\\n",
    "        T421 T422 T423 T424 T431 T432 T433 T434 T441 T442 T443 T444\"\n",
    "materials_string = \"RM1 RM2 RM3 IN1A IN1B IN1CD IN2A IN2B IN2C IN2D IN3A1 IN3B1 IN3A2 IN3B2 IN3C IN3D A11 \\\n",
    "  B11 A21 B21 A12 B12 A22 B22 C1 D1 C2 D2\"\n",
    "\n",
    "tasks = tasks_string.split()\n",
    "materials = materials_string.split()\n",
    "units = ['U11', 'U12', 'U13', 'U21', 'U22', 'U31', 'U32', 'U33', 'U41', 'U42', 'U43', 'U44']\n",
    "time_points = [i for i in range(int(n * (24 / Dt)) + 1)]\n",
    "time_periods = [i for i in range(1, int(n * (24 / Dt)) + 1)]"
   ]
  },
  {
   "cell_type": "code",
   "execution_count": 5,
   "metadata": {},
   "outputs": [],
   "source": [
    "capacities_string = \"80.0 80.0 80.0 5.0 5.0 5.0 3.5 3.5 3.5 3.5 3.0 3.0 3.0 3.0 3.0 3.0 10.0 10.0 10.0 10.0 10.0 10.0 10.0 10.0 10.0 10.0 10.0 10.0\"\n",
    "onhand_inventory_string = \"35.0 50.0 40.0 3.0 3.0 3.0 1.0 1.0 1.0 1.0 1.0 1.0 1.0 1.5 1.5 1.5 3.0 3.0 3.0 3.0 2.0 2.0 2.0 2.0 3.0 3.0 3.0 3.0\"\n",
    "production_costs_string = \"1.50 3.00 2.50 2.00 2.00 1.50 2.00 3.00 1.50 2.50 3.00 2.50 3.00 3.00 1.50 2.50 1.50 2.00 2.50 2.00 2.00 2.00 1.50 1.50 2.50 3.00 1.50 2.50 3.00 2.00 1.50 2.50 1.50 3.00 2.00 2.00 2.50\"\n",
    "daily_production_rate_string = \"1.50 1.50 1.00 1.00 1.00 1.00 1.00 1.50 1.50 1.50 1.50 1.50 1.50 1.50 1.50 1.00 1.00 1.50 1.50 1.50 1.50 1.00 1.00 1.00 1.00 0.50 0.50 0.50 0.50 0.75 0.75 0.75 0.75 1.00 1.00 1.00 1.00\"\n"
   ]
  },
  {
   "cell_type": "code",
   "execution_count": 6,
   "metadata": {},
   "outputs": [],
   "source": [
    "capacities = [float(x) for x in capacities_string.split(' ')]\n",
    "onhand_inventory = [float(x) for x in onhand_inventory_string.split(' ')]\n",
    "production_costs = [float(x) for x in production_costs_string.split(' ')]\n",
    "daily_production_rate = [float(x) for x in daily_production_rate_string.split(' ')]\n",
    "production_rate = [rate * (Dt / 24) for rate in daily_production_rate]\n",
    "storage_costs = [0 for i in range(16)] + [0.3, 0.5, 0.4, 0.8, 0.6, 0.6, 0.5, 0.8, 0.8, 1.2, 1, 1.5]"
   ]
  },
  {
   "cell_type": "code",
   "execution_count": 19,
   "metadata": {},
   "outputs": [
    {
     "data": {
      "text/plain": [
       "[0.5, 1.5, 1.0, 0.75]"
      ]
     },
     "execution_count": 19,
     "metadata": {},
     "output_type": "execute_result"
    }
   ],
   "source": [
    "list(set(daily_production_rate))"
   ]
  },
  {
   "cell_type": "code",
   "execution_count": 8,
   "metadata": {},
   "outputs": [],
   "source": [
    "key_value_pairs_storage_cost = zip(materials, storage_costs)\n",
    "key_value_pairs_production_cost = zip(tasks, production_costs)\n",
    "key_value_pairs_capacity = zip(materials, capacities)\n",
    "key_value_pairs_production_rate = zip(tasks, production_rate)\n",
    "key_value_pairs_onhand_inventory = zip(materials, onhand_inventory)\n",
    "\n",
    "material_storage_cost = dict(key_value_pairs_storage_cost)\n",
    "task_production_cost = dict(key_value_pairs_production_cost)\n",
    "capacity = dict(key_value_pairs_capacity)\n",
    "rate = dict(key_value_pairs_production_rate)\n",
    "onhand_inventory = dict(key_value_pairs_onhand_inventory)"
   ]
  },
  {
   "cell_type": "code",
   "execution_count": 9,
   "metadata": {},
   "outputs": [],
   "source": [
    "rm_deliveries = {\n",
    "  'RM1': [6.50, 7.00, 6.00],\n",
    "  'RM2': [7.50, 10.00, 6.50],\n",
    "  'RM3': [6.50, 10.50, 8.50]\n",
    "}\n",
    "\n",
    "fp_deliveries_string = \"2.00 3.00 3.50 3.00 1.50 1.00 1.00 3.00 2.50 1.00 3.50 1.00\\\n",
    " 1.50 2.50 3.50 1.50 1.00 3.00 3.00 2.00 2.00 1.50 1.50 1.00\\\n",
    " 4.00 2.00 3.50 2.00 1.00 3.50 1.00 1.50 1.00 1.50 2.50 1.50\\\n",
    " 1.50 2.00 2.00 2.00 4.00 4.00 2.00 2.00 3.50 2.00 4.00 1.00\\\n",
    " 3.50 1.00 3.00 1.00 1.00 2.00 2.50 3.00 1.50 2.00 1.50 1.50\\\n",
    " 4.00 2.00 1.00 2.00 2.00 1.50 4.00 1.50 2.00 1.00 2.00 1.00\\\n",
    " 2.00 2.00 1.50 1.00 3.00 2.50 1.00 3.50 4.00 3.00 3.00 2.00\\\n",
    " 3.00 3.00 2.50 1.50 3.00 2.50 1.00 4.00 1.50 3.00 3.50 4.00\"\n",
    "\n",
    "fp_deliveries = np.array([-float(x) for x in fp_deliveries_string.split()])\n",
    "fp_deliveries = fp_deliveries.reshape(8, 12)\n",
    "net_delivery = {}\n",
    "\n",
    "for k in materials:\n",
    "  for n in time_points[1:]:\n",
    "    net_delivery[(k,n)] = 0\n",
    "\n",
    "#net_delivery for final products\n",
    "for i, k in enumerate(materials[16:]):\n",
    "  for j, n in enumerate(range(int(fp_delivery_interval * (24 / Dt)), time_points[-1], int(fp_delivery_interval * (24 / Dt)))):\n",
    "    net_delivery[(k,n)] = fp_deliveries[j][i]\n",
    "\n",
    "#net_delivery for raw materials\n",
    "for k in materials[:rm_num]:\n",
    "  for i,n in enumerate(range(int(rm_delivery_interval * (24 / Dt) ), time_points[int(rm_delivery_interval * (24 / Dt) ) * 3 + 1], int(rm_delivery_interval * (24 / Dt) ))):\n",
    "    net_delivery[(k,n)] = rm_deliveries[k][i]\n"
   ]
  },
  {
   "cell_type": "code",
   "execution_count": 10,
   "metadata": {},
   "outputs": [],
   "source": [
    "unit_can_process_tasks = {}\n",
    "for unit in units:\n",
    "    unit_list = []\n",
    "    for task in tasks:\n",
    "        if(unit[1:] == task[1:3]):\n",
    "            unit_list.append(task)\n",
    "        elif(len(unit_list)):\n",
    "            break\n",
    "    unit_can_process_tasks[unit] = unit_list"
   ]
  },
  {
   "cell_type": "code",
   "execution_count": 11,
   "metadata": {},
   "outputs": [
    {
     "data": {
      "text/plain": [
       "{'U11': ['T111', 'T112'],\n",
       " 'U12': ['T121', 'T122', 'T123'],\n",
       " 'U13': ['T131', 'T132'],\n",
       " 'U21': ['T211', 'T212', 'T213', 'T214'],\n",
       " 'U22': ['T221', 'T222', 'T223', 'T224'],\n",
       " 'U31': ['T311', 'T312'],\n",
       " 'U32': ['T321', 'T322'],\n",
       " 'U33': ['T331', 'T332'],\n",
       " 'U41': ['T411', 'T412', 'T413', 'T414'],\n",
       " 'U42': ['T421', 'T422', 'T423', 'T424'],\n",
       " 'U43': ['T431', 'T432', 'T433', 'T434'],\n",
       " 'U44': ['T441', 'T442', 'T443', 'T444']}"
      ]
     },
     "execution_count": 11,
     "metadata": {},
     "output_type": "execute_result"
    }
   ],
   "source": [
    "unit_can_process_tasks"
   ]
  },
  {
   "cell_type": "code",
   "execution_count": 12,
   "metadata": {},
   "outputs": [],
   "source": [
    "materials_produced_by_tasks = {\n",
    "  'RM1': [],\n",
    "  'RM2': [],\n",
    "  'RM3': [],\n",
    "  'IN1A': ['T111', 'T121'],\n",
    "  'IN1B': ['T112', 'T122', 'T131'],\n",
    "  'IN1CD': ['T123', 'T132'],\n",
    "  'IN2A': ['T211', 'T221'],\n",
    "  'IN2B': ['T212', 'T222'],\n",
    "  'IN2C': ['T213', 'T223'],\n",
    "  'IN2D': ['T214', 'T224'],\n",
    "  'IN3A1': ['T311'],\n",
    "  'IN3B1': ['T312'],\n",
    "  'IN3A2': ['T321'],\n",
    "  'IN3B2': ['T322'],\n",
    "  'IN3C': ['T331'],\n",
    "  'IN3D': ['T332'],\n",
    "  'A11': ['T411'],\n",
    "  'B11': ['T412'],\n",
    "  'A21': ['T413'],\n",
    "  'B21': ['T414'],\n",
    "  'A12': ['T421', 'T431'],\n",
    "  'B12': ['T422', 'T432'],\n",
    "  'A22': ['T422', 'T433'],\n",
    "  'B22': ['T424', 'T434'],\n",
    "  'C1': ['T441'],\n",
    "  'D1': ['T442'],\n",
    "  'C2': ['T443'],\n",
    "  'D2': ['T444']\n",
    "}\n",
    "\n",
    "materials_consumed_by_tasks =  {\n",
    "  'RM1': ['T111', 'T121'],\n",
    "  'RM2': ['T112', 'T122', 'T131'],\n",
    "  'RM3': ['T123', 'T132'],\n",
    "  'IN1A': ['T211', 'T221'],\n",
    "  'IN1B': ['T212', 'T222'],\n",
    "  'IN1CD': ['T213', 'T214', 'T223', 'T224'],\n",
    "  'IN2A': ['T311', 'T321'],\n",
    "  'IN2B': ['T312', 'T322'],\n",
    "  'IN2C': ['T331'],\n",
    "  'IN2D': ['T332'],\n",
    "  'IN3A1': ['T411', 'T421', 'T431'],\n",
    "  'IN3B1': ['T412', 'T422', 'T432'],\n",
    "  'IN3A2': ['T413', 'T423', 'T433'],\n",
    "  'IN3B2': ['T414', 'T424', 'T434'],\n",
    "  'IN3C': ['T441', 'T442'],\n",
    "  'IN3D': ['T443', 'T444'],\n",
    "  'A11': [],\n",
    "  'B11': [],\n",
    "  'A21': [],\n",
    "  'B21': [],\n",
    "  'A12': [],\n",
    "  'B12': [],\n",
    "  'A22': [],\n",
    "  'B22': [],\n",
    "  'C1': [],\n",
    "  'D1': [],\n",
    "  'C2': [],\n",
    "  'D2': []\n",
    "  } \n",
    "  \n"
   ]
  },
  {
   "cell_type": "code",
   "execution_count": 13,
   "metadata": {},
   "outputs": [
    {
     "name": "stdout",
     "output_type": "stream",
     "text": [
      "Set parameter Username\n",
      "Academic license - for non-commercial use only - expires 2024-08-25\n"
     ]
    }
   ],
   "source": [
    "m = gp.Model(\"production-planning-with-unmet-demand\")"
   ]
  },
  {
   "cell_type": "code",
   "execution_count": 14,
   "metadata": {},
   "outputs": [],
   "source": [
    "#Define model variables\n",
    "w = m.addVars(tasks, time_periods, vtype=GRB.BINARY, name=\"w\")\n",
    "w_s = m.addVars(units, time_periods, vtype=GRB.BINARY, name=\"w_s\")\n",
    "\n",
    "u = m.addVars(materials, time_points, vtype=GRB.CONTINUOUS, lb=0, name=\"u\")\n",
    "s = m.addVars(materials, time_points[1:], vtype=GRB.CONTINUOUS, lb=0, ub=capacity, name=\"s\")"
   ]
  },
  {
   "cell_type": "code",
   "execution_count": 15,
   "metadata": {},
   "outputs": [],
   "source": [
    "capacity_constraint = m.addConstrs(s[k,n] <= capacity[k] for k in materials for n in time_points[1:])\n",
    "unmet_demand_for_rm_n_int_materials = \\\n",
    "  m.addConstrs(u[k,n] == 0 for k in materials[:rm_num + intm_num] for n in  time_points)\n",
    "\n",
    "assignment = m.addConstrs(sum(w[i,n] for i in unit_can_process_tasks[j]) + w_s[j,n] == 1 \\\n",
    "  for j in units for n in time_periods)\n",
    "\n",
    "initial_balance = m.addConstrs(s[k,1] - u[k,1] == - u[k,0] + onhand_inventory[k] + net_delivery[k,1] \\\n",
    "  + sum(rate[i] * w[i,1] for i in materials_produced_by_tasks[k]) \\\n",
    "  - sum(rate[i] * w[i,1] for i in materials_consumed_by_tasks[k]) \\\n",
    "  for k in materials )\n",
    "  \n",
    "balance = m.addConstrs(s[k,n] - u[k,n] == s[k, n-1] - u[k, n-1] + net_delivery[k,n] \\\n",
    "  + sum(rate[i] * w[i,n] for i in materials_produced_by_tasks[k]) \\\n",
    "  - sum(rate[i] * w[i,n] for i in materials_consumed_by_tasks[k]) \\\n",
    "  for k in materials for n in time_points[2:] )"
   ]
  },
  {
   "cell_type": "code",
   "execution_count": 16,
   "metadata": {},
   "outputs": [],
   "source": [
    "obj = sum( material_storage_cost[k] * Dt / 24 * s[k,n] for k in materials for n in time_points[1:]) + \\\n",
    "      sum(task_production_cost[i] * rate[i] * w[i,n] for n in time_periods for i in tasks) + \\\n",
    "      sum(material_storage_cost[k] * 50 * Dt / 24 * u[k,n] for k in materials for n in time_points)\n",
    "\n",
    "m.setObjective(obj, GRB.MINIMIZE)"
   ]
  },
  {
   "cell_type": "code",
   "execution_count": 17,
   "metadata": {},
   "outputs": [],
   "source": [
    "m.write('test-2.lp')"
   ]
  },
  {
   "cell_type": "code",
   "execution_count": 18,
   "metadata": {},
   "outputs": [],
   "source": [
    "lp_m = m.relax()"
   ]
  },
  {
   "cell_type": "code",
   "execution_count": null,
   "metadata": {},
   "outputs": [],
   "source": []
  },
  {
   "cell_type": "code",
   "execution_count": null,
   "metadata": {},
   "outputs": [],
   "source": []
  }
 ],
 "metadata": {
  "kernelspec": {
   "display_name": "Python 3",
   "language": "python",
   "name": "python3"
  },
  "language_info": {
   "codemirror_mode": {
    "name": "ipython",
    "version": 3
   },
   "file_extension": ".py",
   "mimetype": "text/x-python",
   "name": "python",
   "nbconvert_exporter": "python",
   "pygments_lexer": "ipython3",
   "version": "3.10.0"
  },
  "orig_nbformat": 4
 },
 "nbformat": 4,
 "nbformat_minor": 2
}
