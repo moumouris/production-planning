{
 "cells": [
  {
   "cell_type": "code",
   "execution_count": 1,
   "metadata": {},
   "outputs": [],
   "source": [
    "import gurobipy as gp\n",
    "from gurobipy import GRB\n",
    "import numpy as np"
   ]
  },
  {
   "cell_type": "code",
   "execution_count": 2,
   "metadata": {},
   "outputs": [],
   "source": [
    "Dt = 4 #hours\n",
    "n = 60 #days \n",
    "fp_delivery_interval = 7 #days\n",
    "rm_delivery_interval = 14 #days\n",
    "rm_num = 3\n",
    "intm_num = 13\n",
    "fp_num = 12"
   ]
  },
  {
   "cell_type": "code",
   "execution_count": 3,
   "metadata": {},
   "outputs": [],
   "source": [
    "tasks_string  = \"T111 T112 T121 T122 T123 T131 T132 T211 T212 T213 T214 T221 T222 T223 T224 T311 T312 T321 T322 T331 T332 T411 T412 T413 T414\\\n",
    "        T421 T422 T423 T424 T431 T432 T433 T434 T441 T442 T443 T444\"\n",
    "materials_string = \"RM1 RM2 RM3 IN1A IN1B IN1CD IN2A IN2B IN2C IN2D IN3A1 IN3B1 IN3A2 IN3B2 IN3C IN3D A11 \\\n",
    "  B11 A21 B21 A12 B12 A22 B22 C1 D1 C2 D2\"\n",
    "\n",
    "tasks = tasks_string.split()\n",
    "materials = materials_string.split()\n",
    "units = ['U11', 'U12', 'U13', 'U21', 'U22', 'U31', 'U32', 'U33', 'U41', 'U42', 'U43', 'U44']\n",
    "time_points = [i for i in range(int(n * (24 / Dt)) + 1)]\n",
    "time_periods = [i for i in range(1, int(n * (24 / Dt)) + 1)]"
   ]
  },
  {
   "cell_type": "code",
   "execution_count": 4,
   "metadata": {},
   "outputs": [],
   "source": [
    "capacities_string = \"80.0 80.0 80.0 5.0 5.0 5.0 3.5 3.5 3.5 3.5 3.0 3.0 3.0 3.0 3.0 3.0 10.0 10.0 10.0 10.0 10.0 10.0 10.0 10.0 10.0 10.0 10.0 10.0\"\n",
    "onhand_inventory_string = \"35.0 50.0 40.0 3.0 3.0 3.0 1.0 1.0 1.0 1.0 1.0 1.0 1.0 1.5 1.5 1.5 3.0 3.0 3.0 3.0 2.0 2.0 2.0 2.0 3.0 3.0 3.0 3.0\"\n",
    "production_costs_string = \"1.50 3.00 2.50 2.00 2.00 1.50 2.00 3.00 1.50 2.50 3.00 2.50 3.00 3.00 1.50 2.50 1.50 2.00 2.50 2.00 2.00 2.00 1.50 1.50 2.50 3.00 1.50 2.50 3.00 2.00 1.50 2.50 1.50 3.00 2.00 2.00 2.50\"\n",
    "daily_production_rate_string = \"1.50 1.50 1.00 1.00 1.00 1.00 1.00 1.50 1.50 1.50 1.50 1.50 1.50 1.50 1.50 1.00 1.00 1.50 1.50 1.50 1.50 1.00 1.00 1.00 1.00 0.50 0.50 0.50 0.50 0.75 0.75 0.75 0.75 1.00 1.00 1.00 1.00\"\n"
   ]
  },
  {
   "cell_type": "code",
   "execution_count": 5,
   "metadata": {},
   "outputs": [],
   "source": [
    "capacities = [float(x) for x in capacities_string.split(' ')]\n",
    "onhand_inventory = [float(x) for x in onhand_inventory_string.split(' ')]\n",
    "production_costs = [float(x) for x in production_costs_string.split(' ')]\n",
    "daily_production_rate = [float(x) for x in daily_production_rate_string.split(' ')]\n",
    "production_rate = [rate * (Dt / 24) for rate in daily_production_rate]\n",
    "storage_costs = [0 for i in range(16)] + [0.3, 0.5, 0.4, 0.8, 0.6, 0.6, 0.5, 0.8, 0.8, 1.2, 1, 1.5]"
   ]
  },
  {
   "cell_type": "code",
   "execution_count": 6,
   "metadata": {},
   "outputs": [],
   "source": [
    "key_value_pairs_storage_cost = zip(materials, storage_costs)\n",
    "key_value_pairs_production_cost = zip(tasks, production_costs)\n",
    "key_value_pairs_capacity = zip(materials, capacities)\n",
    "key_value_pairs_production_rate = zip(tasks, production_rate)\n",
    "key_value_pairs_onhand_inventory = zip(materials, onhand_inventory)\n",
    "\n",
    "material_storage_cost = dict(key_value_pairs_storage_cost)\n",
    "task_production_cost = dict(key_value_pairs_production_cost)\n",
    "capacity = dict(key_value_pairs_capacity)\n",
    "rate = dict(key_value_pairs_production_rate)\n",
    "onhand_inventory = dict(key_value_pairs_onhand_inventory)"
   ]
  },
  {
   "cell_type": "code",
   "execution_count": 7,
   "metadata": {},
   "outputs": [],
   "source": [
    "rm_deliveries = {\n",
    "  'RM1': [6.50, 7.00, 6.00],\n",
    "  'RM2': [7.50, 10.00, 6.50],\n",
    "  'RM3': [6.50, 10.50, 8.50]\n",
    "}\n",
    "\n",
    "fp_deliveries_string = \"2.00 3.00 3.50 3.00 1.50 1.00 1.00 3.00 2.50 1.00 3.50 1.00\\\n",
    " 1.50 2.50 3.50 1.50 1.00 3.00 3.00 2.00 2.00 1.50 1.50 1.00\\\n",
    " 4.00 2.00 3.50 2.00 1.00 3.50 1.00 1.50 1.00 1.50 2.50 1.50\\\n",
    " 1.50 2.00 2.00 2.00 4.00 4.00 2.00 2.00 3.50 2.00 4.00 1.00\\\n",
    " 3.50 1.00 3.00 1.00 1.00 2.00 2.50 3.00 1.50 2.00 1.50 1.50\\\n",
    " 4.00 2.00 1.00 2.00 2.00 1.50 4.00 1.50 2.00 1.00 2.00 1.00\\\n",
    " 2.00 2.00 1.50 1.00 3.00 2.50 1.00 3.50 4.00 3.00 3.00 2.00\\\n",
    " 3.00 3.00 2.50 1.50 3.00 2.50 1.00 4.00 1.50 3.00 3.50 4.00\"\n",
    "\n",
    "fp_deliveries = np.array([-float(x) for x in fp_deliveries_string.split()])\n",
    "fp_deliveries = fp_deliveries.reshape(8, 12)\n",
    "net_delivery = {}\n",
    "\n",
    "for k in materials:\n",
    "  for n in time_points[1:]:\n",
    "    net_delivery[(k,n)] = 0\n",
    "\n",
    "#net_delivery for final products\n",
    "for i, k in enumerate(materials[16:]):\n",
    "  for j, n in enumerate(range(int(fp_delivery_interval * (24 / Dt)), time_points[-1], int(fp_delivery_interval * (24 / Dt)))):\n",
    "    net_delivery[(k,n)] = fp_deliveries[j][i]\n",
    "\n",
    "#net_delivery for raw materials\n",
    "for k in materials[:rm_num]:\n",
    "  for i,n in enumerate(range(int(rm_delivery_interval * (24 / Dt) ), time_points[int(rm_delivery_interval * (24 / Dt) ) * 3 + 1], int(rm_delivery_interval * (24 / Dt) ))):\n",
    "    net_delivery[(k,n)] = rm_deliveries[k][i]\n"
   ]
  },
  {
   "cell_type": "code",
   "execution_count": 8,
   "metadata": {},
   "outputs": [],
   "source": [
    "unit_can_process_tasks = {}\n",
    "for unit in units:\n",
    "    unit_list = []\n",
    "    for task in tasks:\n",
    "        if(unit[1:] == task[1:3]):\n",
    "            unit_list.append(task)\n",
    "        elif(len(unit_list)):\n",
    "            break\n",
    "    unit_can_process_tasks[unit] = unit_list"
   ]
  },
  {
   "cell_type": "code",
   "execution_count": 9,
   "metadata": {},
   "outputs": [
    {
     "data": {
      "text/plain": [
       "{'U11': ['T111', 'T112'],\n",
       " 'U12': ['T121', 'T122', 'T123'],\n",
       " 'U13': ['T131', 'T132'],\n",
       " 'U21': ['T211', 'T212', 'T213', 'T214'],\n",
       " 'U22': ['T221', 'T222', 'T223', 'T224'],\n",
       " 'U31': ['T311', 'T312'],\n",
       " 'U32': ['T321', 'T322'],\n",
       " 'U33': ['T331', 'T332'],\n",
       " 'U41': ['T411', 'T412', 'T413', 'T414'],\n",
       " 'U42': ['T421', 'T422', 'T423', 'T424'],\n",
       " 'U43': ['T431', 'T432', 'T433', 'T434'],\n",
       " 'U44': ['T441', 'T442', 'T443', 'T444']}"
      ]
     },
     "execution_count": 9,
     "metadata": {},
     "output_type": "execute_result"
    }
   ],
   "source": [
    "unit_can_process_tasks"
   ]
  },
  {
   "cell_type": "code",
   "execution_count": 10,
   "metadata": {},
   "outputs": [],
   "source": [
    "materials_produced_by_tasks = {\n",
    "  'RM1': [],\n",
    "  'RM2': [],\n",
    "  'RM3': [],\n",
    "  'IN1A': ['T111', 'T121'],\n",
    "  'IN1B': ['T112', 'T122', 'T131'],\n",
    "  'IN1CD': ['T123', 'T132'],\n",
    "  'IN2A': ['T211', 'T221'],\n",
    "  'IN2B': ['T212', 'T222'],\n",
    "  'IN2C': ['T213', 'T223'],\n",
    "  'IN2D': ['T214', 'T224'],\n",
    "  'IN3A1': ['T311'],\n",
    "  'IN3B1': ['T312'],\n",
    "  'IN3A2': ['T321'],\n",
    "  'IN3B2': ['T322'],\n",
    "  'IN3C': ['T331'],\n",
    "  'IN3D': ['T332'],\n",
    "  'A11': ['T411'],\n",
    "  'B11': ['T412'],\n",
    "  'A21': ['T413'],\n",
    "  'B21': ['T414'],\n",
    "  'A12': ['T421', 'T431'],\n",
    "  'B12': ['T422', 'T432'],\n",
    "  'A22': ['T422', 'T433'],\n",
    "  'B22': ['T424', 'T434'],\n",
    "  'C1': ['T441'],\n",
    "  'D1': ['T442'],\n",
    "  'C2': ['T443'],\n",
    "  'D2': ['T444']\n",
    "}\n",
    "\n",
    "materials_consumed_by_tasks =  {\n",
    "  'RM1': ['T111', 'T121'],\n",
    "  'RM2': ['T112', 'T122', 'T131'],\n",
    "  'RM3': ['T123', 'T132'],\n",
    "  'IN1A': ['T211', 'T221'],\n",
    "  'IN1B': ['T212', 'T222'],\n",
    "  'IN1CD': ['T213', 'T214', 'T223', 'T224'],\n",
    "  'IN2A': ['T311', 'T321'],\n",
    "  'IN2B': ['T312', 'T322'],\n",
    "  'IN2C': ['T331'],\n",
    "  'IN2D': ['T332'],\n",
    "  'IN3A1': ['T411', 'T421', 'T431'],\n",
    "  'IN3B1': ['T412', 'T422', 'T432'],\n",
    "  'IN3A2': ['T413', 'T423', 'T433'],\n",
    "  'IN3B2': ['T414', 'T424', 'T434'],\n",
    "  'IN3C': ['T441', 'T442'],\n",
    "  'IN3D': ['T443', 'T444'],\n",
    "  'A11': [],\n",
    "  'B11': [],\n",
    "  'A21': [],\n",
    "  'B21': [],\n",
    "  'A12': [],\n",
    "  'B12': [],\n",
    "  'A22': [],\n",
    "  'B22': [],\n",
    "  'C1': [],\n",
    "  'D1': [],\n",
    "  'C2': [],\n",
    "  'D2': []\n",
    "  } \n",
    "  \n"
   ]
  },
  {
   "cell_type": "code",
   "execution_count": 11,
   "metadata": {},
   "outputs": [
    {
     "name": "stdout",
     "output_type": "stream",
     "text": [
      "Set parameter Username\n",
      "Academic license - for non-commercial use only - expires 2024-08-25\n"
     ]
    }
   ],
   "source": [
    "m = gp.Model(\"production-planning-with-unmet-demand\")"
   ]
  },
  {
   "cell_type": "code",
   "execution_count": 12,
   "metadata": {},
   "outputs": [],
   "source": [
    "#Define model variables\n",
    "w = m.addVars(tasks, time_periods, vtype=GRB.BINARY, name=\"w\")\n",
    "w_s = m.addVars(units, time_periods, vtype=GRB.BINARY, name=\"w_s\")\n",
    "\n",
    "u = m.addVars(materials, time_points, vtype=GRB.CONTINUOUS, lb=0, name=\"u\")\n",
    "s = m.addVars(materials, time_points[1:], vtype=GRB.CONTINUOUS, lb=0, ub=capacity, name=\"s\")"
   ]
  },
  {
   "cell_type": "code",
   "execution_count": 13,
   "metadata": {},
   "outputs": [],
   "source": [
    "capacity_constraint = m.addConstrs(s[k,n] <= capacity[k] for k in materials for n in time_points[1:])\n",
    "unmet_demand_for_rm_n_int_materials = \\\n",
    "  m.addConstrs(u[k,n] == 0 for k in materials[:rm_num + intm_num] for n in  time_points)\n",
    "\n",
    "assignment = m.addConstrs(sum(w[i,n] for i in unit_can_process_tasks[j]) + w_s[j,n] == 1 \\\n",
    "  for j in units for n in time_periods)\n",
    "\n",
    "initial_balance = m.addConstrs(s[k,1] - u[k,1] == - u[k,0] + onhand_inventory[k] + net_delivery[k,1] \\\n",
    "  + sum(rate[i] * w[i,1] for i in materials_produced_by_tasks[k]) \\\n",
    "  - sum(rate[i] * w[i,1] for i in materials_consumed_by_tasks[k]) \\\n",
    "                             for k in materials )\n",
    "balance = m.addConstrs(s[k,n] - u[k,n] == s[k, n-1] - u[k, n-1] + net_delivery[k,n] \\\n",
    "  + sum(rate[i] * w[i,n] for i in materials_produced_by_tasks[k]) \\\n",
    "  - sum(rate[i] * w[i,n] for i in materials_consumed_by_tasks[k]) \\\n",
    "  for k in materials for n in time_points[2:] )"
   ]
  },
  {
   "cell_type": "code",
   "execution_count": 14,
   "metadata": {},
   "outputs": [],
   "source": [
    "obj = sum( material_storage_cost[k] * Dt / 24 * s[k,n] for k in materials for n in time_points[1:]) + \\\n",
    "      sum(task_production_cost[i] * rate[i] * w[i,n] for n in time_periods for i in tasks) + \\\n",
    "      sum(material_storage_cost[k] * 50 * Dt / 24 * u[k,n] for k in materials for n in time_points)\n",
    "\n",
    "m.setObjective(obj, GRB.MINIMIZE)"
   ]
  },
  {
   "cell_type": "code",
   "execution_count": 15,
   "metadata": {},
   "outputs": [],
   "source": [
    "m.write('test-2.lp')"
   ]
  },
  {
   "cell_type": "code",
   "execution_count": 16,
   "metadata": {},
   "outputs": [
    {
     "name": "stdout",
     "output_type": "stream",
     "text": [
      "Gurobi Optimizer version 10.0.2 build v10.0.2rc0 (win64)\n",
      "\n",
      "CPU model: Intel(R) Core(TM) i5-1035G1 CPU @ 1.00GHz, instruction set [SSE2|AVX|AVX2|AVX512]\n",
      "Thread count: 4 physical cores, 8 logical processors, using up to 8 threads\n",
      "\n",
      "Optimize a model with 20176 rows, 37828 columns and 89628 nonzeros\n",
      "Model fingerprint: 0x64026cfe\n",
      "Variable types: 20188 continuous, 17640 integer (17640 binary)\n",
      "Coefficient statistics:\n",
      "  Matrix range     [8e-02, 1e+00]\n",
      "  Objective range  [5e-02, 1e+01]\n",
      "  Bounds range     [1e+00, 1e+00]\n",
      "  RHS range        [1e+00, 5e+01]\n"
     ]
    },
    {
     "name": "stdout",
     "output_type": "stream",
     "text": [
      "Presolve removed 6897 rows and 11258 columns\n",
      "Presolve time: 0.95s\n",
      "Presolved: 13279 rows, 26570 columns, 65728 nonzeros\n",
      "Variable types: 8628 continuous, 17942 integer (13319 binary)\n",
      "\n",
      "Root simplex log...\n",
      "\n",
      "Iteration    Objective       Primal Inf.    Dual Inf.      Time\n",
      "   14475    2.1695847e+03   6.306479e+03   0.000000e+00      5s\n",
      "   19158    2.7207639e+03   0.000000e+00   0.000000e+00      8s\n",
      "\n",
      "Root relaxation: objective 2.720764e+03, 19158 iterations, 6.22 seconds (1.37 work units)\n",
      "\n",
      "    Nodes    |    Current Node    |     Objective Bounds      |     Work\n",
      " Expl Unexpl |  Obj  Depth IntInf | Incumbent    BestBd   Gap | It/Node Time\n",
      "\n",
      "     0     0 2720.76389    0  503          - 2720.76389      -     -    8s\n",
      "     0     0 2721.34605    0 1081          - 2721.34605      -     -   10s\n",
      "     0     0 2721.61326    0 1264          - 2721.61326      -     -   11s\n",
      "     0     0 2721.61327    0 1265          - 2721.61327      -     -   11s\n",
      "     0     0 2721.80652    0  612          - 2721.80652      -     -   14s\n",
      "     0     0 2721.80652    0 1320          - 2721.80652      -     -   14s\n",
      "     0     0 2721.82102    0 1123          - 2721.82102      -     -   16s\n",
      "     0     0 2721.82210    0 1541          - 2721.82210      -     -   16s\n",
      "     0     0 2721.82212    0 1530          - 2721.82212      -     -   16s\n",
      "     0     0 2721.83449    0 2180          - 2721.83449      -     -   17s\n",
      "     0     0 2721.83501    0 1477          - 2721.83501      -     -   17s\n",
      "     0     0 2721.84997    0 1773          - 2721.84997      -     -   18s\n",
      "     0     0 2721.85000    0 1774          - 2721.85000      -     -   19s\n",
      "     0     0 2721.85707    0 1930          - 2721.85707      -     -   20s\n",
      "     0     0 2721.85722    0 2022          - 2721.85722      -     -   20s\n",
      "     0     0 2721.85730    0 2020          - 2721.85730      -     -   21s\n",
      "     0     0 2721.85730    0 2061          - 2721.85730      -     -   21s\n",
      "     0     0 2721.85731    0 1797          - 2721.85731      -     -   22s\n",
      "H    0     0                    146404.45000 2721.85731  98.1%     -   31s\n",
      "     0     0 2721.85731    0  939 146404.450 2721.85731  98.1%     -   33s\n",
      "H    0     0                    2784.4777778 2721.85731  2.25%     -   34s\n",
      "     0     2 2721.85731    0  266 2784.47778 2721.85731  2.25%     -   36s\n",
      "H   86    89                    2784.2277778 2721.85731  2.24%  10.6   39s\n",
      "    88   197 2721.86426   17  241 2784.22778 2721.85731  2.24%  10.5   42s\n",
      "H  139   197                    2783.8111111 2721.85731  2.23%   8.1   42s\n",
      "H  166   197                    2782.9819444 2721.85731  2.20%   7.3   42s\n",
      "   196   420 2721.88778   40  299 2782.98194 2721.85731  2.20%   6.9   47s\n",
      "H  272   420                    2782.5694444 2721.85731  2.18%   6.2   47s\n",
      "H  326   420                    2782.5652778 2721.85731  2.18%   5.9   47s\n",
      "H  419   659                    2782.5569444 2721.85731  2.18%   5.8   52s\n",
      "H  541   659                    2780.4986111 2721.85731  2.11%   4.8   52s\n",
      "H  658   956                    2779.5944444 2721.85731  2.08%   4.2   58s\n",
      "H  955  1157                    2779.0861111 2721.85731  2.06%   3.7   62s\n",
      "H 1004  1157                    2777.9444444 2721.85731  2.02%   3.7   62s\n",
      "H 1044  1157                    2776.9319444 2721.85731  1.98%   3.6   62s\n",
      "H 1156  1484                    2776.5152778 2721.85731  1.97%   3.4   68s\n",
      "H 1242  1484                    2775.0069444 2721.85731  1.92%   3.3   68s\n",
      "H 1403  1484                    2774.0236111 2721.85731  1.88%   3.2   68s\n",
      "H 1483  1789                    2773.7694444 2721.85731  1.87%   3.1   72s\n",
      "H 1560  1789                    2771.5930556 2721.85731  1.79%   3.4   72s\n",
      "H 1788  1907                    2771.0208333 2721.85731  1.77%   3.4   77s\n",
      "H 1789  1907                    2767.4708333 2721.85731  1.65%   3.4   77s\n",
      "H 1843  1907                    2764.9138885 2721.85731  1.56%   3.5   77s\n",
      "H 1906  1911                    2763.9930552 2721.85731  1.52%   3.5   84s\n",
      "H 1907  1911                    2763.9138885 2721.85731  1.52%   3.5   84s\n",
      "H 1908  1911                    2755.1750000 2721.85731  1.21%   3.5   84s\n",
      "  1910  2271 2722.03266  312  754 2755.17500 2721.85731  1.21%   3.5   89s\n",
      "H 2176  2271                    2754.7250000 2721.85731  1.19%   3.7   89s\n",
      "  2270  2628 2722.08856  396  224 2754.72500 2721.85731  1.19%   3.8   94s\n",
      "  2627  3012 2722.22259  469  189 2754.72500 2721.85731  1.19%   4.6   99s\n",
      "  3011  3457 2722.60405  521  467 2754.72500 2721.85731  1.19%   5.5  104s\n",
      "H 3456  3831                    2754.0972222 2721.85731  1.17%   5.9  110s\n",
      "H 3611  3831                    2750.8652778 2721.85731  1.05%   5.8  110s\n",
      "H 3783  3831                    2750.7138889 2721.85731  1.05%   5.6  110s\n"
     ]
    },
    {
     "ename": "KeyboardInterrupt",
     "evalue": "",
     "output_type": "error",
     "traceback": [
      "\u001b[1;31m---------------------------------------------------------------------------\u001b[0m",
      "\u001b[1;31mKeyboardInterrupt\u001b[0m                         Traceback (most recent call last)",
      "File \u001b[1;32m~\\AppData\\Roaming\\Python\\Python310\\site-packages\\ipykernel\\iostream.py:502\u001b[0m, in \u001b[0;36mOutStream.write\u001b[1;34m(self, string)\u001b[0m\n\u001b[0;32m    498\u001b[0m         content \u001b[39m=\u001b[39m {\u001b[39m'\u001b[39m\u001b[39mname\u001b[39m\u001b[39m'\u001b[39m:\u001b[39mself\u001b[39m\u001b[39m.\u001b[39mname, \u001b[39m'\u001b[39m\u001b[39mtext\u001b[39m\u001b[39m'\u001b[39m:data}\n\u001b[0;32m    499\u001b[0m         \u001b[39mself\u001b[39m\u001b[39m.\u001b[39msession\u001b[39m.\u001b[39msend(\u001b[39mself\u001b[39m\u001b[39m.\u001b[39mpub_thread, \u001b[39m'\u001b[39m\u001b[39mstream\u001b[39m\u001b[39m'\u001b[39m, content\u001b[39m=\u001b[39mcontent,\n\u001b[0;32m    500\u001b[0m             parent\u001b[39m=\u001b[39m\u001b[39mself\u001b[39m\u001b[39m.\u001b[39mparent_header, ident\u001b[39m=\u001b[39m\u001b[39mself\u001b[39m\u001b[39m.\u001b[39mtopic)\n\u001b[1;32m--> 502\u001b[0m \u001b[39mdef\u001b[39;00m \u001b[39mwrite\u001b[39m(\u001b[39mself\u001b[39m, string: \u001b[39mstr\u001b[39m) \u001b[39m-\u001b[39m\u001b[39m>\u001b[39m \u001b[39mint\u001b[39m:\n\u001b[0;32m    503\u001b[0m     \u001b[39m\"\"\"Write to current stream after encoding if necessary\u001b[39;00m\n\u001b[0;32m    504\u001b[0m \n\u001b[0;32m    505\u001b[0m \u001b[39m    Returns\u001b[39;00m\n\u001b[1;32m   (...)\u001b[0m\n\u001b[0;32m    509\u001b[0m \n\u001b[0;32m    510\u001b[0m \u001b[39m    \"\"\"\u001b[39;00m\n\u001b[0;32m    512\u001b[0m     \u001b[39mif\u001b[39;00m \u001b[39mnot\u001b[39;00m \u001b[39misinstance\u001b[39m(string, \u001b[39mstr\u001b[39m):\n",
      "\u001b[1;31mKeyboardInterrupt\u001b[0m: "
     ]
    },
    {
     "name": "stderr",
     "output_type": "stream",
     "text": [
      "Exception ignored in: 'gurobipy.logcallbackstub'\n",
      "Traceback (most recent call last):\n",
      "  File \"C:\\Users\\amoum\\AppData\\Roaming\\Python\\Python310\\site-packages\\ipykernel\\iostream.py\", line 502, in write\n",
      "    def write(self, string: str) -> int:\n",
      "KeyboardInterrupt: \n"
     ]
    },
    {
     "name": "stdout",
     "output_type": "stream",
     "text": [
      "H 4038  4492                    2750.6833333 2721.85731  1.05%   5.6  123s\n",
      "H 4168  4492                    2749.8930556 2721.85731  1.02%   5.6  123s\n",
      "H 4490  4492                    2749.4875000 2721.85731  1.00%   5.8  123s\n",
      "  4491  4928 2723.50972  930  415 2749.48750 2721.85731  1.00%   5.8  129s\n",
      "  4927  5550 2724.04792 1044  453 2749.48750 2721.85731  1.00%   6.5  136s\n"
     ]
    }
   ],
   "source": [
    "m.optimize()"
   ]
  },
  {
   "cell_type": "code",
   "execution_count": null,
   "metadata": {},
   "outputs": [],
   "source": []
  }
 ],
 "metadata": {
  "kernelspec": {
   "display_name": "Python 3",
   "language": "python",
   "name": "python3"
  },
  "language_info": {
   "codemirror_mode": {
    "name": "ipython",
    "version": 3
   },
   "file_extension": ".py",
   "mimetype": "text/x-python",
   "name": "python",
   "nbconvert_exporter": "python",
   "pygments_lexer": "ipython3",
   "version": "3.10.0"
  },
  "orig_nbformat": 4
 },
 "nbformat": 4,
 "nbformat_minor": 2
}
