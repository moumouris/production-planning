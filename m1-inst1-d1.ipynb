{
 "cells": [
  {
   "cell_type": "code",
   "execution_count": 118,
   "metadata": {},
   "outputs": [],
   "source": [
    "import gurobipy as gp\n",
    "from gurobipy import GRB\n"
   ]
  },
  {
   "cell_type": "code",
   "execution_count": 119,
   "metadata": {},
   "outputs": [],
   "source": [
    "#Constants we are going to use\n",
    "total_weeks = 2\n",
    "hours_in_week = 24 * 7\n",
    "hours_in_day = 24\n",
    "Dt = 12 #hours\n"
   ]
  },
  {
   "cell_type": "code",
   "execution_count": 120,
   "metadata": {},
   "outputs": [],
   "source": [
    "# Model sets\n",
    "tasks = ['T11', 'T12', 'T21', 'T22', 'T31', 'T32', 'T41', 'T42', 'T43', 'T51', 'T52']\n",
    "units = ['U1', 'U2', 'U3', 'U4', 'U5']\n",
    "time_points = [i for i in range(int(total_weeks * hours_in_week / Dt) + 1)]\n",
    "time_periods = [i for i in range(1, int(total_weeks * hours_in_week / Dt) + 1)]\n",
    "materials = ['RM1', 'RM2', 'INT1', 'INT2', 'INT3', 'INT4', 'A', 'B1', 'B2', 'C1', 'C2']\n"
   ]
  },
  {
   "cell_type": "code",
   "execution_count": 121,
   "metadata": {},
   "outputs": [
    {
     "name": "stdout",
     "output_type": "stream",
     "text": [
      "{('RM1', 0): 0, ('RM1', 1): 0, ('RM1', 2): 0, ('RM1', 3): 0, ('RM1', 4): 0, ('RM1', 5): 0, ('RM1', 6): 0, ('RM1', 7): 0, ('RM1', 8): 0, ('RM1', 9): 0, ('RM1', 10): 0, ('RM1', 11): 0, ('RM1', 12): 0, ('RM1', 13): 0, ('RM1', 14): 0, ('RM1', 15): 0, ('RM1', 16): 0, ('RM1', 17): 0, ('RM1', 18): 0, ('RM1', 19): 0, ('RM1', 20): 0, ('RM1', 21): 0, ('RM1', 22): 0, ('RM1', 23): 0, ('RM1', 24): 0, ('RM1', 25): 0, ('RM1', 26): 0, ('RM1', 27): 0, ('RM1', 28): 0, ('RM2', 0): 0, ('RM2', 1): 0, ('RM2', 2): 0, ('RM2', 3): 0, ('RM2', 4): 0, ('RM2', 5): 0, ('RM2', 6): 0, ('RM2', 7): 0, ('RM2', 8): 0, ('RM2', 9): 0, ('RM2', 10): 0, ('RM2', 11): 0, ('RM2', 12): 0, ('RM2', 13): 0, ('RM2', 14): 0, ('RM2', 15): 0, ('RM2', 16): 0, ('RM2', 17): 0, ('RM2', 18): 0, ('RM2', 19): 0, ('RM2', 20): 0, ('RM2', 21): 0, ('RM2', 22): 0, ('RM2', 23): 0, ('RM2', 24): 0, ('RM2', 25): 0, ('RM2', 26): 0, ('RM2', 27): 0, ('RM2', 28): 0, ('INT1', 0): 0, ('INT1', 1): 0, ('INT1', 2): 0, ('INT1', 3): 0, ('INT1', 4): 0, ('INT1', 5): 0, ('INT1', 6): 0, ('INT1', 7): 0, ('INT1', 8): 0, ('INT1', 9): 0, ('INT1', 10): 0, ('INT1', 11): 0, ('INT1', 12): 0, ('INT1', 13): 0, ('INT1', 14): 0, ('INT1', 15): 0, ('INT1', 16): 0, ('INT1', 17): 0, ('INT1', 18): 0, ('INT1', 19): 0, ('INT1', 20): 0, ('INT1', 21): 0, ('INT1', 22): 0, ('INT1', 23): 0, ('INT1', 24): 0, ('INT1', 25): 0, ('INT1', 26): 0, ('INT1', 27): 0, ('INT1', 28): 0, ('INT2', 0): 0, ('INT2', 1): 0, ('INT2', 2): 0, ('INT2', 3): 0, ('INT2', 4): 0, ('INT2', 5): 0, ('INT2', 6): 0, ('INT2', 7): 0, ('INT2', 8): 0, ('INT2', 9): 0, ('INT2', 10): 0, ('INT2', 11): 0, ('INT2', 12): 0, ('INT2', 13): 0, ('INT2', 14): 0, ('INT2', 15): 0, ('INT2', 16): 0, ('INT2', 17): 0, ('INT2', 18): 0, ('INT2', 19): 0, ('INT2', 20): 0, ('INT2', 21): 0, ('INT2', 22): 0, ('INT2', 23): 0, ('INT2', 24): 0, ('INT2', 25): 0, ('INT2', 26): 0, ('INT2', 27): 0, ('INT2', 28): 0, ('INT3', 0): 0, ('INT3', 1): 0, ('INT3', 2): 0, ('INT3', 3): 0, ('INT3', 4): 0, ('INT3', 5): 0, ('INT3', 6): 0, ('INT3', 7): 0, ('INT3', 8): 0, ('INT3', 9): 0, ('INT3', 10): 0, ('INT3', 11): 0, ('INT3', 12): 0, ('INT3', 13): 0, ('INT3', 14): 0, ('INT3', 15): 0, ('INT3', 16): 0, ('INT3', 17): 0, ('INT3', 18): 0, ('INT3', 19): 0, ('INT3', 20): 0, ('INT3', 21): 0, ('INT3', 22): 0, ('INT3', 23): 0, ('INT3', 24): 0, ('INT3', 25): 0, ('INT3', 26): 0, ('INT3', 27): 0, ('INT3', 28): 0, ('INT4', 0): 0, ('INT4', 1): 0, ('INT4', 2): 0, ('INT4', 3): 0, ('INT4', 4): 0, ('INT4', 5): 0, ('INT4', 6): 0, ('INT4', 7): 0, ('INT4', 8): 0, ('INT4', 9): 0, ('INT4', 10): 0, ('INT4', 11): 0, ('INT4', 12): 0, ('INT4', 13): 0, ('INT4', 14): 0, ('INT4', 15): 0, ('INT4', 16): 0, ('INT4', 17): 0, ('INT4', 18): 0, ('INT4', 19): 0, ('INT4', 20): 0, ('INT4', 21): 0, ('INT4', 22): 0, ('INT4', 23): 0, ('INT4', 24): 0, ('INT4', 25): 0, ('INT4', 26): 0, ('INT4', 27): 0, ('INT4', 28): 0, ('A', 0): 0, ('A', 1): 0, ('A', 2): 0, ('A', 3): 0, ('A', 4): 0, ('A', 5): 0, ('A', 6): 0, ('A', 7): 0, ('A', 8): 0, ('A', 9): 0, ('A', 10): 0, ('A', 11): 0, ('A', 12): 0, ('A', 13): 0, ('A', 14): -3, ('A', 15): 0, ('A', 16): 0, ('A', 17): 0, ('A', 18): 0, ('A', 19): 0, ('A', 20): 0, ('A', 21): 0, ('A', 22): 0, ('A', 23): 0, ('A', 24): 0, ('A', 25): 0, ('A', 26): 0, ('A', 27): 0, ('A', 28): -3.5, ('B1', 0): 0, ('B1', 1): 0, ('B1', 2): 0, ('B1', 3): 0, ('B1', 4): 0, ('B1', 5): 0, ('B1', 6): 0, ('B1', 7): 0, ('B1', 8): 0, ('B1', 9): 0, ('B1', 10): 0, ('B1', 11): 0, ('B1', 12): 0, ('B1', 13): 0, ('B1', 14): -2.5, ('B1', 15): 0, ('B1', 16): 0, ('B1', 17): 0, ('B1', 18): 0, ('B1', 19): 0, ('B1', 20): 0, ('B1', 21): 0, ('B1', 22): 0, ('B1', 23): 0, ('B1', 24): 0, ('B1', 25): 0, ('B1', 26): 0, ('B1', 27): 0, ('B1', 28): -3, ('B2', 0): 0, ('B2', 1): 0, ('B2', 2): 0, ('B2', 3): 0, ('B2', 4): 0, ('B2', 5): 0, ('B2', 6): 0, ('B2', 7): 0, ('B2', 8): 0, ('B2', 9): 0, ('B2', 10): 0, ('B2', 11): 0, ('B2', 12): 0, ('B2', 13): 0, ('B2', 14): -3.5, ('B2', 15): 0, ('B2', 16): 0, ('B2', 17): 0, ('B2', 18): 0, ('B2', 19): 0, ('B2', 20): 0, ('B2', 21): 0, ('B2', 22): 0, ('B2', 23): 0, ('B2', 24): 0, ('B2', 25): 0, ('B2', 26): 0, ('B2', 27): 0, ('B2', 28): -3, ('C1', 0): 0, ('C1', 1): 0, ('C1', 2): 0, ('C1', 3): 0, ('C1', 4): 0, ('C1', 5): 0, ('C1', 6): 0, ('C1', 7): 0, ('C1', 8): 0, ('C1', 9): 0, ('C1', 10): 0, ('C1', 11): 0, ('C1', 12): 0, ('C1', 13): 0, ('C1', 14): -2.5, ('C1', 15): 0, ('C1', 16): 0, ('C1', 17): 0, ('C1', 18): 0, ('C1', 19): 0, ('C1', 20): 0, ('C1', 21): 0, ('C1', 22): 0, ('C1', 23): 0, ('C1', 24): 0, ('C1', 25): 0, ('C1', 26): 0, ('C1', 27): 0, ('C1', 28): -2, ('C2', 0): 0, ('C2', 1): 0, ('C2', 2): 0, ('C2', 3): 0, ('C2', 4): 0, ('C2', 5): 0, ('C2', 6): 0, ('C2', 7): 0, ('C2', 8): 0, ('C2', 9): 0, ('C2', 10): 0, ('C2', 11): 0, ('C2', 12): 0, ('C2', 13): 0, ('C2', 14): -2.5, ('C2', 15): 0, ('C2', 16): 0, ('C2', 17): 0, ('C2', 18): 0, ('C2', 19): 0, ('C2', 20): 0, ('C2', 21): 0, ('C2', 22): 0, ('C2', 23): 0, ('C2', 24): 0, ('C2', 25): 0, ('C2', 26): 0, ('C2', 27): 0, ('C2', 28): -3.5}\n"
     ]
    }
   ],
   "source": [
    "#Model parameters\n",
    "capacities = [80, 80, 5, 5, 5, 5, 10, 10, 10, 10, 10] #materials\n",
    "production_costs = [1.0, 1.0, 0.5, 0.5, 1.5, 1.5, 1.0, 0.5, 0.5, 1.0, 0.5] #tasks\n",
    "storage_costs = [0, 0, 0, 0, 0, 0, 1.5, 1.4, 1.8, 1.2, 2.0] #materials\n",
    "daily_production_rate = [2, 1, 1, 1, 2, 2, 2, 1, 1, 1, 1] #tasks\n",
    "production_rate = [rate * Dt / hours_in_day for rate in daily_production_rate]\n",
    "onhand_inventory_list = [ 80, 80, 0, 0, 0, 0, 0, 0, 0, 0, 0]\n",
    "\n",
    "key_value_pairs_storage_cost = zip(materials, storage_costs)\n",
    "key_value_pairs_production_cost = zip(tasks, production_costs)\n",
    "key_value_pairs_capacity = zip(materials, capacities)\n",
    "key_value_pairs_production_rate = zip(tasks, production_rate)\n",
    "key_value_pairs_onhand_inventory = zip(materials, onhand_inventory_list)\n",
    "\n",
    "material_storage_cost = dict(key_value_pairs_storage_cost)\n",
    "task_production_cost = dict(key_value_pairs_production_cost)\n",
    "capacity = dict(key_value_pairs_capacity)\n",
    "rate = dict(key_value_pairs_production_rate)\n",
    "onhand_inventory = dict(key_value_pairs_onhand_inventory)\n",
    "\n",
    "unit_can_process_tasks = {\n",
    "  'U1': ['T11', 'T12'],\n",
    "  'U2': ['T21', 'T22'],\n",
    "  'U3': ['T31', 'T32'],\n",
    "  'U4': ['T41', 'T42', 'T43'],\n",
    "  'U5': ['T51', 'T52']\n",
    "}\n",
    "\n",
    "material_produced_by_tasks = {\n",
    "  'RM1': [],\n",
    "  'RM2': [],\n",
    "  'INT1': ['T11', 'T21'],\n",
    "  'INT2': ['T12', 'T22'],\n",
    "  'INT3': ['T31'],\n",
    "  'INT4': ['T32'],\n",
    "  'A': ['T41'],\n",
    "  'B1': ['T42'],\n",
    "  'B2': ['T51'],\n",
    "  'C1': ['T43'],\n",
    "  'C2': ['T52']\n",
    "}\n",
    "\n",
    "material_consumed_by_tasks = {\n",
    "  'RM1': ['T11', 'T21'],\n",
    "  'RM2': ['T12', 'T22'],\n",
    "  'INT1': ['T31', 'T41'],\n",
    "  'INT2': ['T32'],\n",
    "  'INT3': ['T42', 'T51'],\n",
    "  'INT4': ['T43', 'T52'],\n",
    "  'A': [],\n",
    "  'B1': [],\n",
    "  'B2': [],\n",
    "  'C1': [],\n",
    "  'C2': []\n",
    "}\n",
    "\n",
    "net_delivery = {}\n",
    "for k in materials:\n",
    "  for n in time_points:\n",
    "    net_delivery[(k,n)] = 0\n",
    "\n",
    "net_delivery['A', hours_in_week / Dt] = -3\n",
    "net_delivery['B1', hours_in_week / Dt] = -2.5\n",
    "net_delivery['B2', hours_in_week / Dt] = -3.5\n",
    "net_delivery['C1', hours_in_week / Dt] = -2.5\n",
    "net_delivery['C2', hours_in_week / Dt] = -2.5\n",
    "net_delivery['A', 2 * (hours_in_week / Dt)] = -3.5\n",
    "net_delivery['B1', 2 * (hours_in_week / Dt)] = -3\n",
    "net_delivery['B2', 2 * (hours_in_week / Dt)] = -3\n",
    "net_delivery['C1', 2 * (hours_in_week / Dt)] = -2\n",
    "net_delivery['C2', 2 * (hours_in_week / Dt)] = -3.5\n",
    "\n",
    "print(net_delivery)"
   ]
  },
  {
   "cell_type": "code",
   "execution_count": 122,
   "metadata": {},
   "outputs": [],
   "source": [
    "m = gp.Model(\"production-planning-simple\")"
   ]
  },
  {
   "cell_type": "code",
   "execution_count": 123,
   "metadata": {},
   "outputs": [],
   "source": [
    "#Define model variables\n",
    "w = m.addVars(tasks, time_periods, vtype=GRB.BINARY, name=\"w\")\n",
    "w_s = m.addVars(units, time_periods, vtype=GRB.BINARY, name=\"w_s\")\n",
    "\n",
    "s = m.addVars(materials, time_points[1:], vtype=GRB.CONTINUOUS, lb=0, name=\"s\") # MAYBE ITS NOT AN INTEGER"
   ]
  },
  {
   "cell_type": "code",
   "execution_count": 124,
   "metadata": {},
   "outputs": [],
   "source": [
    "#Define objective function\n",
    "obj = sum( material_storage_cost[k] * Dt / hours_in_day * s[k,n] for k in materials for n in time_points[1:]) + \\\n",
    "      sum(task_production_cost[i] * rate[i] * w[i,n] for n in time_periods for i in tasks)\n",
    "\n",
    "m.setObjective(obj, GRB.MINIMIZE)"
   ]
  },
  {
   "cell_type": "code",
   "execution_count": 125,
   "metadata": {},
   "outputs": [],
   "source": [
    "#Define constraints\n",
    "capacity_constraint = m.addConstrs(s[k,n] <= capacity[k] for k in materials for n in time_points[1:])\n",
    "\n",
    "assignment = m.addConstrs(sum(w[i,n] for i in unit_can_process_tasks[j]) + w_s[j,n] == 1 \\\n",
    "  for j in units for n in time_periods)\n",
    "\n",
    "initial_balance = m.addConstrs(s[k,1] == onhand_inventory[k] + net_delivery[k,1] \\\n",
    "  + sum(rate[i] * w[i,1] for i in material_produced_by_tasks[k]) \\\n",
    "  - sum(rate[i] * w[i,1] for i in material_consumed_by_tasks[k]) \\\n",
    "                             for k in materials )\n",
    "                             \n",
    "balance = m.addConstrs(s[k,n] == s[k,n-1] + net_delivery[k,n] \\\n",
    "  + sum(rate[i] * w[i,n] for i in material_produced_by_tasks[k]) \\\n",
    "  - sum(rate[i] * w[i,n] for i in material_consumed_by_tasks[k]) \\\n",
    "  for k in materials for n in time_points[2:] )\n",
    "            "
   ]
  },
  {
   "cell_type": "code",
   "execution_count": 126,
   "metadata": {},
   "outputs": [],
   "source": [
    "m.write('test.lp' )"
   ]
  },
  {
   "cell_type": "code",
   "execution_count": 127,
   "metadata": {},
   "outputs": [
    {
     "name": "stdout",
     "output_type": "stream",
     "text": [
      "Gurobi Optimizer version 10.0.2 build v10.0.2rc0 (win64)\n",
      "\n",
      "CPU model: Intel(R) Core(TM) i5-1035G1 CPU @ 1.00GHz, instruction set [SSE2|AVX|AVX2|AVX512]\n",
      "Thread count: 4 physical cores, 8 logical processors, using up to 8 threads\n",
      "\n",
      "Optimize a model with 756 rows, 756 columns and 1977 nonzeros\n",
      "Model fingerprint: 0x30c00e0b\n",
      "Variable types: 308 continuous, 448 integer (448 binary)\n",
      "Coefficient statistics:\n",
      "  Matrix range     [5e-01, 1e+00]\n",
      "  Objective range  [3e-01, 2e+00]\n",
      "  Bounds range     [1e+00, 1e+00]\n",
      "  RHS range        [1e+00, 8e+01]\n",
      "Presolve removed 489 rows and 326 columns\n",
      "Presolve time: 0.01s\n",
      "Presolved: 267 rows, 430 columns, 1052 nonzeros\n",
      "Variable types: 0 continuous, 430 integer (308 binary)\n",
      "\n",
      "Root relaxation: objective 2.024250e+02, 245 iterations, 0.01 seconds (0.00 work units)\n",
      "\n",
      "    Nodes    |    Current Node    |     Objective Bounds      |     Work\n",
      " Expl Unexpl |  Obj  Depth IntInf | Incumbent    BestBd   Gap | It/Node Time\n",
      "\n",
      "     0     0  202.42500    0    3          -  202.42500      -     -    0s\n",
      "H    0     0                     206.1750000  202.42500  1.82%     -    0s\n",
      "H    0     0                     203.6750000  202.42500  0.61%     -    0s\n",
      "     0     0  202.42500    0   69  203.67500  202.42500  0.61%     -    0s\n",
      "     0     0  202.42500    0    5  203.67500  202.42500  0.61%     -    0s\n",
      "     0     0  202.42500    0    5  203.67500  202.42500  0.61%     -    0s\n",
      "     0     0  202.42500    0    1  203.67500  202.42500  0.61%     -    0s\n",
      "     0     0  202.42500    0    3  203.67500  202.42500  0.61%     -    0s\n",
      "     0     0  202.42500    0    7  203.67500  202.42500  0.61%     -    0s\n",
      "     0     0  202.42500    0    7  203.67500  202.42500  0.61%     -    0s\n",
      "     0     2  202.42500    0    7  203.67500  202.42500  0.61%     -    0s\n",
      "\n",
      "Cutting planes:\n",
      "  Cover: 1\n",
      "  MIR: 4\n",
      "  Flow cover: 2\n",
      "  Inf proof: 4\n",
      "  Zero half: 5\n",
      "\n",
      "Explored 343 nodes (1877 simplex iterations) in 0.62 seconds (0.06 work units)\n",
      "Thread count was 8 (of 8 available processors)\n",
      "\n",
      "Solution count 2: 203.675 206.175 \n",
      "\n",
      "Optimal solution found (tolerance 1.00e-04)\n",
      "Best objective 2.036750000000e+02, best bound 2.036750000000e+02, gap 0.0000%\n"
     ]
    }
   ],
   "source": [
    "m.optimize()"
   ]
  }
 ],
 "metadata": {
  "kernelspec": {
   "display_name": "Python 3",
   "language": "python",
   "name": "python3"
  },
  "language_info": {
   "codemirror_mode": {
    "name": "ipython",
    "version": 3
   },
   "file_extension": ".py",
   "mimetype": "text/x-python",
   "name": "python",
   "nbconvert_exporter": "python",
   "pygments_lexer": "ipython3",
   "version": "3.10.0"
  },
  "orig_nbformat": 4
 },
 "nbformat": 4,
 "nbformat_minor": 2
}
