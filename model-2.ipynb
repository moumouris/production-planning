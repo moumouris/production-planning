{
 "cells": [
  {
   "cell_type": "code",
   "execution_count": 1,
   "metadata": {},
   "outputs": [],
   "source": [
    "import gurobipy as gp\n",
    "from gurobipy import GRB\n"
   ]
  },
  {
   "cell_type": "code",
   "execution_count": 6,
   "metadata": {},
   "outputs": [
    {
     "name": "stdout",
     "output_type": "stream",
     "text": [
      "28\n"
     ]
    }
   ],
   "source": [
    "tasks_string  = \"T111 T112 T121 T122 T123 T131 T132 T211 T212 T213 T214 T221 T222 T223 T224 T311 T312 T321 T322 T331 T332 T411 T412 T413 T414\\\n",
    "        T421 T422 T423 T424 T431 T432 T433 T434 T441 T442 T443 T444\"\n",
    "materials_string = \"RM1 RM2 RM3 IN1A IN1B IN1CD IN2A IN2B IN2C IN2D IN3A1 IN3B1 IN3A2 IN3B2 IN3C IN3D A11 \\\n",
    "  B11 A21 B21 A12 B12 A22 B22 C1 D1 C2 D2\"\n",
    "\n",
    "tasks = tasks_string.split()\n",
    "materials = materials_string.split()"
   ]
  },
  {
   "cell_type": "code",
   "execution_count": 8,
   "metadata": {},
   "outputs": [],
   "source": [
    "units = ['U11', 'U12', 'U13', 'U21', 'U22', 'U31', 'U32', 'U33', 'U41', 'U42', 'U43', 'U44']"
   ]
  },
  {
   "cell_type": "code",
   "execution_count": 13,
   "metadata": {},
   "outputs": [],
   "source": [
    "unit_can_process_tasks = {}\n",
    "for unit in units:\n",
    "    unit_list = []\n",
    "    for task in tasks:\n",
    "        if(unit[1:] == task[1:3]):\n",
    "            unit_list.append(task)\n",
    "        elif(len(unit_list)):\n",
    "            break\n",
    "    unit_can_process_tasks[unit] = unit_list"
   ]
  },
  {
   "cell_type": "code",
   "execution_count": 19,
   "metadata": {},
   "outputs": [
    {
     "data": {
      "text/plain": [
       "{'RM1': [],\n",
       " 'RM2': [],\n",
       " 'RM3': [],\n",
       " 'IN1A': [],\n",
       " 'IN1B': [],\n",
       " 'IN1CD': [],\n",
       " 'IN2A': [],\n",
       " 'IN2B': [],\n",
       " 'IN2C': [],\n",
       " 'IN2D': [],\n",
       " 'IN3A1': [],\n",
       " 'IN3B1': [],\n",
       " 'IN3A2': [],\n",
       " 'IN3B2': [],\n",
       " 'IN3C': [],\n",
       " 'IN3D': [],\n",
       " 'A11': [],\n",
       " 'B11': [],\n",
       " 'A21': [],\n",
       " 'B21': [],\n",
       " 'A12': [],\n",
       " 'B12': [],\n",
       " 'A22': [],\n",
       " 'B22': [],\n",
       " 'C1': [],\n",
       " 'D1': [],\n",
       " 'C2': [],\n",
       " 'D2': []}"
      ]
     },
     "execution_count": 19,
     "metadata": {},
     "output_type": "execute_result"
    }
   ],
   "source": [
    "dict(zip(materials, [[]]*len(materials)))"
   ]
  },
  {
   "cell_type": "code",
   "execution_count": null,
   "metadata": {},
   "outputs": [],
   "source": [
    "materials_produced_by_tasks = {\n",
    "  'RM1': [],\n",
    "  'RM2': [],\n",
    "  'RM3': [],\n",
    "  'IN1A': ['T111', 'T121'],\n",
    "  'IN1B': ['T112', 'Τ122' 'T131'],\n",
    "  'IN1CD': ['T123', 'T132'],\n",
    "  'IN2A': ['T211', 'T221'],\n",
    "  'IN2B': ['T212', 'T222'],\n",
    "  'IN2C': ['T213', 'T223'],\n",
    "  'IN2D': ['T214', 'T224'],\n",
    "  'IN3A1': ['T311'],\n",
    "  'IN3B1': ['T312'],\n",
    "  'IN3A2': ['T321'],\n",
    "  'IN3B2': ['T322'],\n",
    "  'IN3C': ['T331'],\n",
    "  'IN3D': ['T332'],\n",
    "  'A11': ['T411'],\n",
    "  'B11': ['T412'],\n",
    "  'A21': ['T413'],\n",
    "  'B21': ['T414'],\n",
    "  'A12': ['T421', 'T431'],\n",
    "  'B12': ['T422', 'T432'],\n",
    "  'A22': ['T422', 'T433'],\n",
    "  'B22': ['T424', 'T434'],\n",
    "  'C1': ['T441'],\n",
    "  'D1': ['T442'],\n",
    "  'C2': ['T443'],\n",
    "  'D2': ['T444']\n",
    "}\n",
    "\n",
    "materials_consumed_by_tasks =  {\n",
    "  'RM1': ['Τ111', 'Τ121'],\n",
    "  'RM2': ['Τ112', 'Τ131'],\n",
    "  'RM3': ['Τ123', 'Τ132'],\n",
    "  'IN1A': ['Τ211', 'Τ221'],\n",
    "  'IN1B': ['Τ212', 'Τ222'],\n",
    "  'IN1CD': ['Τ213', 'Τ214', 'Τ224'],\n",
    "  'IN2A': ['Τ311', 'Τ321'],\n",
    "  'IN2B': ['Τ312', 'Τ322'],\n",
    "  'IN2C': ['Τ331'],\n",
    "  'IN2D': ['Τ332'],\n",
    "  'IN3A1': ['Τ411', 'Τ421', 'Τ431'],\n",
    "  'IN3B1': ['Τ412', 'Τ422' 'Τ432'],\n",
    "  'IN3A2': ['Τ413', 'Τ423' 'Τ433'],\n",
    "  'IN3B2': ['Τ414', 'Τ424' 'Τ434'],\n",
    "  'IN3C': ['Τ441', 'Τ442'],\n",
    "  'IN3D': ['Τ443', 'Τ444'],\n",
    "  'A11': [],\n",
    "  'B11': [],\n",
    "  'A21': [],\n",
    "  'B21': [],\n",
    "  'A12': [],\n",
    "  'B12': [],\n",
    "  'A22': [],\n",
    "  'B22': [],\n",
    "  'C1': [],\n",
    "  'D1': [],\n",
    "  'C2': [],\n",
    "  'D2': []\n",
    "  } \n",
    "  \n"
   ]
  },
  {
   "cell_type": "code",
   "execution_count": 14,
   "metadata": {},
   "outputs": [
    {
     "data": {
      "text/plain": [
       "{'U11': ['T111', 'T112'],\n",
       " 'U12': ['T121', 'T122', 'T123'],\n",
       " 'U13': ['T131', 'T132'],\n",
       " 'U21': ['T211', 'T212', 'T213', 'T214'],\n",
       " 'U22': ['T221', 'T222', 'T223', 'T224'],\n",
       " 'U31': ['T311', 'T312'],\n",
       " 'U32': ['T321', 'T322'],\n",
       " 'U33': ['T331', 'T332'],\n",
       " 'U41': ['T411', 'T412', 'T413', 'T414'],\n",
       " 'U42': ['T421', 'T422', 'T423', 'T424'],\n",
       " 'U43': ['T431', 'T432', 'T433', 'T434'],\n",
       " 'U44': ['T441', 'T442', 'T443', 'T444']}"
      ]
     },
     "execution_count": 14,
     "metadata": {},
     "output_type": "execute_result"
    }
   ],
   "source": []
  }
 ],
 "metadata": {
  "kernelspec": {
   "display_name": "Python 3",
   "language": "python",
   "name": "python3"
  },
  "language_info": {
   "codemirror_mode": {
    "name": "ipython",
    "version": 3
   },
   "file_extension": ".py",
   "mimetype": "text/x-python",
   "name": "python",
   "nbconvert_exporter": "python",
   "pygments_lexer": "ipython3",
   "version": "3.10.0"
  },
  "orig_nbformat": 4
 },
 "nbformat": 4,
 "nbformat_minor": 2
}
